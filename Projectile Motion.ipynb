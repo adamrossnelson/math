{
 "cells": [
  {
   "cell_type": "markdown",
   "metadata": {},
   "source": [
    "# Projectile Motion\n",
    "Project inspired from pages 48 to 53 of Saha, A. (2015) *Doing Math With Python: Use Programming to Explore Algebra, Statistics, Calculus, and More* No Starch Press: San Francisco, CA.\n",
    "\n",
    "Modified for Jupyter. Added Pandas DataFrame functionality. Coordinate data can be returned in a Pandas DataFrame using the `draw_trajectory(u, theta)` function."
   ]
  },
  {
   "cell_type": "code",
   "execution_count": 1,
   "metadata": {},
   "outputs": [],
   "source": [
    "from matplotlib import pyplot as plt\n",
    "import math\n",
    "import pandas as pd\n",
    "import seaborn as sns\n",
    "%matplotlib inline"
   ]
  },
  {
   "cell_type": "code",
   "execution_count": 2,
   "metadata": {},
   "outputs": [],
   "source": [
    "# A function to generate range of increments.\n",
    "def frange(start, final, interval):\n",
    "    numbers = []\n",
    "    while start < final:\n",
    "        numbers.append(start)\n",
    "        start = start + interval\n",
    "    \n",
    "    return numbers"
   ]
  },
  {
   "cell_type": "code",
   "execution_count": 3,
   "metadata": {},
   "outputs": [],
   "source": [
    "# A function to generate the graph.\n",
    "def draw_graph(x, y):\n",
    "    plt.plot(x, y)\n",
    "    plt.xlabel('x-coordinate')\n",
    "    plt.ylabel('y-coordinate')\n",
    "    plt.title('Projectile motion of a ball')"
   ]
  },
  {
   "cell_type": "code",
   "execution_count": 4,
   "metadata": {},
   "outputs": [],
   "source": [
    "# A function to draw trajectory coordinate data.\n",
    "def draw_trajectory(u, theta):\n",
    "    df_to_graph = make_trajectory_df(u, theta)\n",
    "    draw_graph(df_to_graph['y'], df_to_graph['x'])"
   ]
  },
  {
   "cell_type": "code",
   "execution_count": 5,
   "metadata": {},
   "outputs": [],
   "source": [
    "# A function to generate trajectory data and return data frame.\n",
    "def make_trajectory_df(u, theta):\n",
    "    theta = math.radians(theta)\n",
    "    g = 9.8\n",
    "    \n",
    "    # Time of flight\n",
    "    t_flight = 2*u*math.sin(theta)/g\n",
    "    # Find time intervals\n",
    "    intervals = frange(0, t_flight, 0.01)\n",
    "    \n",
    "    # Make lists for x and y coordinatres.\n",
    "    x = []\n",
    "    y = []\n",
    "    for t in intervals:\n",
    "        x.append(u*math.cos(theta)*t)\n",
    "        y.append(u*math.sin(theta)*t - .5*g*t*t)\n",
    "        \n",
    "    trajectory_data_frame = pd.DataFrame(x, y,).reset_index()\n",
    "    trajectory_data_frame['x'] = trajectory_data_frame['index']\n",
    "    trajectory_data_frame['y'] = trajectory_data_frame[0]\n",
    "    trajectory_data_frame = trajectory_data_frame.drop(columns=['index'])\n",
    "    trajectory_data_frame = trajectory_data_frame.drop([0], axis=1)\n",
    "    return trajectory_data_frame"
   ]
  },
  {
   "cell_type": "code",
   "execution_count": 6,
   "metadata": {},
   "outputs": [
    {
     "name": "stdout",
     "output_type": "stream",
     "text": [
      "Enter the initial velocity in m/sec: 25\n",
      "Enter the angle of projection in degrees: 60\n"
     ]
    },
    {
     "data": {
      "image/png": "[encoded data removed]",
      "text/plain": [
       "<matplotlib.figure.Figure at 0x10a98b7b8>"
      ]
     },
     "metadata": {},
     "output_type": "display_data"
    }
   ],
   "source": [
    "# Execute the full program.\n",
    "try:\n",
    "    u = float(input('Enter the initial velocity in m/sec: '))\n",
    "    theta = float(input('Enter the angle of projection in degrees: '))\n",
    "except ValueError:\n",
    "    print('You entered an invalid input')\n",
    "else:\n",
    "    draw_trajectory(u, theta)\n",
    "    plt.show()\n",
    "    mydf = make_trajectory_df(u, theta)"
   ]
  },
  {
   "cell_type": "code",
   "execution_count": 7,
   "metadata": {},
   "outputs": [
    {
     "data": {
      "text/html": [
       "<div>\n",
       "<style scoped>\n",
       "    .dataframe tbody tr th:only-of-type {\n",
       "        vertical-align: middle;\n",
       "    }\n",
       "\n",
       "    .dataframe tbody tr th {\n",
       "        vertical-align: top;\n",
       "    }\n",
       "\n",
       "    .dataframe thead th {\n",
       "        text-align: right;\n",
       "    }\n",
       "</style>\n",
       "<table border=\"1\" class=\"dataframe\">\n",
       "  <thead>\n",
       "    <tr style=\"text-align: right;\">\n",
       "      <th></th>\n",
       "      <th>x</th>\n",
       "      <th>y</th>\n",
       "    </tr>\n",
       "  </thead>\n",
       "  <tbody>\n",
       "    <tr>\n",
       "      <th>0</th>\n",
       "      <td>0.000000</td>\n",
       "      <td>0.000</td>\n",
       "    </tr>\n",
       "    <tr>\n",
       "      <th>1</th>\n",
       "      <td>0.216016</td>\n",
       "      <td>0.125</td>\n",
       "    </tr>\n",
       "    <tr>\n",
       "      <th>2</th>\n",
       "      <td>0.431053</td>\n",
       "      <td>0.250</td>\n",
       "    </tr>\n",
       "    <tr>\n",
       "      <th>3</th>\n",
       "      <td>0.645109</td>\n",
       "      <td>0.375</td>\n",
       "    </tr>\n",
       "    <tr>\n",
       "      <th>4</th>\n",
       "      <td>0.858185</td>\n",
       "      <td>0.500</td>\n",
       "    </tr>\n",
       "  </tbody>\n",
       "</table>\n",
       "</div>"
      ],
      "text/plain": [
       "          x      y\n",
       "0  0.000000  0.000\n",
       "1  0.216016  0.125\n",
       "2  0.431053  0.250\n",
       "3  0.645109  0.375\n",
       "4  0.858185  0.500"
      ]
     },
     "execution_count": 7,
     "metadata": {},
     "output_type": "execute_result"
    }
   ],
   "source": [
    "mydf.head()"
   ]
  },
  {
   "cell_type": "code",
   "execution_count": 8,
   "metadata": {},
   "outputs": [
    {
     "data": {
      "text/plain": [
       "<matplotlib.axes._subplots.AxesSubplot at 0x10cc1fc18>"
      ]
     },
     "execution_count": 8,
     "metadata": {},
     "output_type": "execute_result"
    },
    {
     "data": {
      "image/png": "[encoded data removed]",
      "text/plain": [
       "<matplotlib.figure.Figure at 0x10a978b70>"
      ]
     },
     "metadata": {},
     "output_type": "display_data"
    }
   ],
   "source": [
    "sns.pointplot(x=mydf['y'], y=mydf['x'], markers='')"
   ]
  },
  {
   "cell_type": "code",
   "execution_count": null,
   "metadata": {},
   "outputs": [],
   "source": []
  }
 ],
 "metadata": {
  "kernelspec": {
   "display_name": "Python 3",
   "language": "python",
   "name": "python3"
  },
  "language_info": {
   "codemirror_mode": {
    "name": "ipython",
    "version": 3
   },
   "file_extension": ".py",
   "mimetype": "text/x-python",
   "name": "python",
   "nbconvert_exporter": "python",
   "pygments_lexer": "ipython3",
   "version": "3.6.4"
  }
 },
 "nbformat": 4,
 "nbformat_minor": 2
}
